{
 "cells": [
  {
   "cell_type": "code",
   "execution_count": 1,
   "id": "1616f8ea-cceb-4fda-91fc-6e7683cf6eeb",
   "metadata": {},
   "outputs": [],
   "source": [
    "import os\n",
    "import pandas as pd"
   ]
  },
  {
   "cell_type": "code",
   "execution_count": 2,
   "id": "2f1e67f2-5760-433d-82d1-b884686857a7",
   "metadata": {},
   "outputs": [],
   "source": [
    "with open(\"./app.csv\", \"r\") as file:\n",
    "    data = file.read()"
   ]
  },
  {
   "cell_type": "code",
   "execution_count": 3,
   "id": "a6cacf67-4a63-4272-8258-9bc9a7c2850b",
   "metadata": {},
   "outputs": [],
   "source": [
    "data = data.split(\"\\\\n\")"
   ]
  },
  {
   "cell_type": "code",
   "execution_count": 8,
   "id": "78543cee-2638-408b-8f58-9a926fead6b3",
   "metadata": {},
   "outputs": [
    {
     "data": {
      "text/plain": [
       "{'': [], 'column': [], 'nulls': [], 'nulls_pct': []}"
      ]
     },
     "execution_count": 8,
     "metadata": {},
     "output_type": "execute_result"
    }
   ],
   "source": [
    "df = {value: list() for value in data[0].split(\",\")}\n",
    "df"
   ]
  },
  {
   "cell_type": "code",
   "execution_count": 5,
   "id": "1560415a-50d6-4ac6-9803-12f7c9479448",
   "metadata": {},
   "outputs": [
    {
     "name": "stdout",
     "output_type": "stream",
     "text": [
      "Requirement already satisfied: pandas in /opt/homebrew/Caskroom/miniconda/base/lib/python3.12/site-packages (2.2.3)\n",
      "Requirement already satisfied: numpy>=1.26.0 in /opt/homebrew/Caskroom/miniconda/base/lib/python3.12/site-packages (from pandas) (2.1.3)\n",
      "Requirement already satisfied: python-dateutil>=2.8.2 in /opt/homebrew/Caskroom/miniconda/base/lib/python3.12/site-packages (from pandas) (2.9.0.post0)\n",
      "Requirement already satisfied: pytz>=2020.1 in /opt/homebrew/Caskroom/miniconda/base/lib/python3.12/site-packages (from pandas) (2024.2)\n",
      "Requirement already satisfied: tzdata>=2022.7 in /opt/homebrew/Caskroom/miniconda/base/lib/python3.12/site-packages (from pandas) (2024.2)\n",
      "Requirement already satisfied: six>=1.5 in /opt/homebrew/Caskroom/miniconda/base/lib/python3.12/site-packages (from python-dateutil>=2.8.2->pandas) (1.16.0)\n"
     ]
    }
   ],
   "source": [
    "!pip install pandas"
   ]
  },
  {
   "cell_type": "code",
   "execution_count": 9,
   "id": "32f7526c-85f8-4ada-9f19-ffda16cb09dd",
   "metadata": {},
   "outputs": [
    {
     "name": "stdout",
     "output_type": "stream",
     "text": [
      "['']\n",
      "707 list index out of range\n"
     ]
    }
   ],
   "source": [
    "import pandas as pd\n",
    "\n",
    "def get_value(value):\n",
    "    if value == None:\n",
    "        return None\n",
    "    else:\n",
    "        return value\n",
    "\n",
    "for ix, line in enumerate(data[1:]):\n",
    "    try:\n",
    "        line = line.split(\",\")\n",
    "        df[\"\"].append(get_value(line[0]))\n",
    "        df[\"column\"].append(get_value(line[1]))\n",
    "        df[\"nulls\"].append(get_value(line[2]))\n",
    "        df[\"nulls_pct\"].append(get_value(line[3]))\n",
    "    except Exception as e:\n",
    "        print(line)\n",
    "        print(ix, e)\n",
    "        continue"
   ]
  },
  {
   "cell_type": "code",
   "execution_count": null,
   "id": "fcf1b19d",
   "metadata": {},
   "outputs": [
    {
     "name": "stdout",
     "output_type": "stream",
     "text": [
      " 708\n",
      "column 707\n",
      "nulls 707\n",
      "nulls_pct 707\n"
     ]
    }
   ],
   "source": [
    "for key, values in df.items():\n",
    "    print(key, len(values))"
   ]
  },
  {
   "cell_type": "code",
   "execution_count": 12,
   "id": "2b5a1bf0",
   "metadata": {},
   "outputs": [],
   "source": [
    "df[\"\"] = df[\"\"][:-1]"
   ]
  },
  {
   "cell_type": "code",
   "execution_count": 13,
   "id": "b4f87e97-ecfb-4b95-ac75-30f4b11fdc75",
   "metadata": {},
   "outputs": [
    {
     "data": {
      "text/html": [
       "<div>\n",
       "<style scoped>\n",
       "    .dataframe tbody tr th:only-of-type {\n",
       "        vertical-align: middle;\n",
       "    }\n",
       "\n",
       "    .dataframe tbody tr th {\n",
       "        vertical-align: top;\n",
       "    }\n",
       "\n",
       "    .dataframe thead th {\n",
       "        text-align: right;\n",
       "    }\n",
       "</style>\n",
       "<table border=\"1\" class=\"dataframe\">\n",
       "  <thead>\n",
       "    <tr style=\"text-align: right;\">\n",
       "      <th></th>\n",
       "      <th></th>\n",
       "      <th>column</th>\n",
       "      <th>nulls</th>\n",
       "      <th>nulls_pct</th>\n",
       "    </tr>\n",
       "  </thead>\n",
       "  <tbody>\n",
       "    <tr>\n",
       "      <th>0</th>\n",
       "      <td>0</td>\n",
       "      <td>createdat</td>\n",
       "      <td>0</td>\n",
       "      <td>0.0</td>\n",
       "    </tr>\n",
       "    <tr>\n",
       "      <th>1</th>\n",
       "      <td>1</td>\n",
       "      <td>displayname</td>\n",
       "      <td>0</td>\n",
       "      <td>0.0</td>\n",
       "    </tr>\n",
       "    <tr>\n",
       "      <th>2</th>\n",
       "      <td>2</td>\n",
       "      <td>fullname</td>\n",
       "      <td>0</td>\n",
       "      <td>0.0</td>\n",
       "    </tr>\n",
       "    <tr>\n",
       "      <th>3</th>\n",
       "      <td>3</td>\n",
       "      <td>lxstate</td>\n",
       "      <td>0</td>\n",
       "      <td>0.0</td>\n",
       "    </tr>\n",
       "    <tr>\n",
       "      <th>4</th>\n",
       "      <td>4</td>\n",
       "      <td>nafields</td>\n",
       "      <td>0</td>\n",
       "      <td>0.0</td>\n",
       "    </tr>\n",
       "  </tbody>\n",
       "</table>\n",
       "</div>"
      ],
      "text/plain": [
       "           column nulls nulls_pct\n",
       "0  0    createdat     0       0.0\n",
       "1  1  displayname     0       0.0\n",
       "2  2     fullname     0       0.0\n",
       "3  3      lxstate     0       0.0\n",
       "4  4     nafields     0       0.0"
      ]
     },
     "execution_count": 13,
     "metadata": {},
     "output_type": "execute_result"
    }
   ],
   "source": [
    "df = pd.DataFrame(df)\n",
    "df.head()"
   ]
  },
  {
   "cell_type": "code",
   "execution_count": 14,
   "id": "a21902da-492d-4675-95e1-611cfefa8b49",
   "metadata": {},
   "outputs": [],
   "source": [
    "df.to_csv(\"app.csv\", index=False)"
   ]
  },
  {
   "cell_type": "code",
   "execution_count": null,
   "id": "8f2cec47",
   "metadata": {},
   "outputs": [],
   "source": []
  }
 ],
 "metadata": {
  "kernelspec": {
   "display_name": "liquidxlstm",
   "language": "python",
   "name": "python3"
  },
  "language_info": {
   "codemirror_mode": {
    "name": "ipython",
    "version": 3
   },
   "file_extension": ".py",
   "mimetype": "text/x-python",
   "name": "python",
   "nbconvert_exporter": "python",
   "pygments_lexer": "ipython3",
   "version": "3.12.7"
  }
 },
 "nbformat": 4,
 "nbformat_minor": 5
}
