{
 "cells": [
  {
   "cell_type": "code",
   "execution_count": 1,
   "metadata": {},
   "outputs": [],
   "source": [
    "import mlflow"
   ]
  },
  {
   "cell_type": "code",
   "execution_count": 3,
   "metadata": {},
   "outputs": [],
   "source": [
    "import torch"
   ]
  },
  {
   "cell_type": "code",
   "execution_count": 5,
   "metadata": {},
   "outputs": [],
   "source": [
    "x = [None, 100, 1869, 8, 151, 2, 52, 214, 87, 833, 1236, 8, 151, 1060, 49, 2645, 1111, 6, 186, 279, 2, 68, 1975, 1835, 1289, 1712, 92, 595, 7, 2610, 8, 145, 1111, 130, 405, 538, 100, 542, 92, 343, 106, 433, 2, 68, 416, 489, 152, 228, 1983, 100, 78, 2692, 101, 109, 77, 6, 76, 729, 87, 237, 3488, 3095, 6, 88, 454, 106, 109, 845, 1344, 82, 3269, 8, 5679, 2487, 6, 106, 635, 159, 78, 838, 146, 513, 90, 1689, 63, 2, 1598, 6, 186, 78, 1111, 125, 253, 529, 2, 68, 121, 8, 813, 78]"
   ]
  },
  {
   "cell_type": "code",
   "execution_count": 6,
   "metadata": {},
   "outputs": [],
   "source": [
    "if x[0] is None:\n",
    "    x[0] = -1\n",
    "elif x[-1] is None:\n",
    "    x[-1] = -99\n",
    "\n",
    "x = [value if value != None else -2 for value in x]\n"
   ]
  },
  {
   "cell_type": "code",
   "execution_count": 7,
   "metadata": {},
   "outputs": [
    {
     "data": {
      "text/plain": [
       "[-1,\n",
       " 100,\n",
       " 1869,\n",
       " 8,\n",
       " 151,\n",
       " 2,\n",
       " 52,\n",
       " 214,\n",
       " 87,\n",
       " 833,\n",
       " 1236,\n",
       " 8,\n",
       " 151,\n",
       " 1060,\n",
       " 49,\n",
       " 2645,\n",
       " 1111,\n",
       " 6,\n",
       " 186,\n",
       " 279,\n",
       " 2,\n",
       " 68,\n",
       " 1975,\n",
       " 1835,\n",
       " 1289,\n",
       " 1712,\n",
       " 92,\n",
       " 595,\n",
       " 7,\n",
       " 2610,\n",
       " 8,\n",
       " 145,\n",
       " 1111,\n",
       " 130,\n",
       " 405,\n",
       " 538,\n",
       " 100,\n",
       " 542,\n",
       " 92,\n",
       " 343,\n",
       " 106,\n",
       " 433,\n",
       " 2,\n",
       " 68,\n",
       " 416,\n",
       " 489,\n",
       " 152,\n",
       " 228,\n",
       " 1983,\n",
       " 100,\n",
       " 78,\n",
       " 2692,\n",
       " 101,\n",
       " 109,\n",
       " 77,\n",
       " 6,\n",
       " 76,\n",
       " 729,\n",
       " 87,\n",
       " 237,\n",
       " 3488,\n",
       " 3095,\n",
       " 6,\n",
       " 88,\n",
       " 454,\n",
       " 106,\n",
       " 109,\n",
       " 845,\n",
       " 1344,\n",
       " 82,\n",
       " 3269,\n",
       " 8,\n",
       " 5679,\n",
       " 2487,\n",
       " 6,\n",
       " 106,\n",
       " 635,\n",
       " 159,\n",
       " 78,\n",
       " 838,\n",
       " 146,\n",
       " 513,\n",
       " 90,\n",
       " 1689,\n",
       " 63,\n",
       " 2,\n",
       " 1598,\n",
       " 6,\n",
       " 186,\n",
       " 78,\n",
       " 1111,\n",
       " 125,\n",
       " 253,\n",
       " 529,\n",
       " 2,\n",
       " 68,\n",
       " 121,\n",
       " 8,\n",
       " 813,\n",
       " 78]"
      ]
     },
     "execution_count": 7,
     "metadata": {},
     "output_type": "execute_result"
    }
   ],
   "source": [
    "x"
   ]
  },
  {
   "cell_type": "code",
   "execution_count": null,
   "metadata": {},
   "outputs": [],
   "source": []
  }
 ],
 "metadata": {
  "kernelspec": {
   "display_name": "liquidxlstm",
   "language": "python",
   "name": "python3"
  },
  "language_info": {
   "codemirror_mode": {
    "name": "ipython",
    "version": 3
   },
   "file_extension": ".py",
   "mimetype": "text/x-python",
   "name": "python",
   "nbconvert_exporter": "python",
   "pygments_lexer": "ipython3",
   "version": "3.12.7"
  }
 },
 "nbformat": 4,
 "nbformat_minor": 2
}
